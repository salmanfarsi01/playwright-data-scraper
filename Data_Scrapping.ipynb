{
  "nbformat": 4,
  "nbformat_minor": 0,
  "metadata": {
    "colab": {
      "provenance": []
    },
    "kernelspec": {
      "name": "python3",
      "display_name": "Python 3"
    },
    "language_info": {
      "name": "python"
    }
  },
  "cells": [
    {
      "cell_type": "code",
      "source": [
        "!pip install playwright"
      ],
      "metadata": {
        "colab": {
          "base_uri": "https://localhost:8080/"
        },
        "id": "XUiMIcn7noS_",
        "outputId": "1abb0a98-887f-4d68-952f-c31169483179"
      },
      "execution_count": 18,
      "outputs": [
        {
          "output_type": "stream",
          "name": "stdout",
          "text": [
            "Collecting playwright\n",
            "  Downloading playwright-1.54.0-py3-none-manylinux1_x86_64.whl.metadata (3.5 kB)\n",
            "Collecting pyee<14,>=13 (from playwright)\n",
            "  Downloading pyee-13.0.0-py3-none-any.whl.metadata (2.9 kB)\n",
            "Requirement already satisfied: greenlet<4.0.0,>=3.1.1 in /usr/local/lib/python3.11/dist-packages (from playwright) (3.2.3)\n",
            "Requirement already satisfied: typing-extensions in /usr/local/lib/python3.11/dist-packages (from pyee<14,>=13->playwright) (4.14.1)\n",
            "Downloading playwright-1.54.0-py3-none-manylinux1_x86_64.whl (45.9 MB)\n",
            "\u001b[2K   \u001b[90m━━━━━━━━━━━━━━━━━━━━━━━━━━━━━━━━━━━━━━━━\u001b[0m \u001b[32m45.9/45.9 MB\u001b[0m \u001b[31m15.0 MB/s\u001b[0m eta \u001b[36m0:00:00\u001b[0m\n",
            "\u001b[?25hDownloading pyee-13.0.0-py3-none-any.whl (15 kB)\n",
            "Installing collected packages: pyee, playwright\n",
            "Successfully installed playwright-1.54.0 pyee-13.0.0\n"
          ]
        }
      ]
    },
    {
      "cell_type": "code",
      "source": [
        "!python -m playwright install"
      ],
      "metadata": {
        "colab": {
          "base_uri": "https://localhost:8080/"
        },
        "id": "Dm3n_tDOnrW9",
        "outputId": "e5f7c84d-27bb-4645-e633-8334234e6382"
      },
      "execution_count": 19,
      "outputs": [
        {
          "output_type": "stream",
          "name": "stdout",
          "text": [
            "Downloading Chromium 139.0.7258.5 (playwright build v1181)\u001b[2m from https://cdn.playwright.dev/dbazure/download/playwright/builds/chromium/1181/chromium-linux.zip\u001b[22m\n",
            "\u001b[1G172.5 MiB [] 0% 0.0s\u001b[0K\u001b[1G172.5 MiB [] 0% 7.4s\u001b[0K\u001b[1G172.5 MiB [] 0% 8.6s\u001b[0K\u001b[1G172.5 MiB [] 0% 10.3s\u001b[0K\u001b[1G172.5 MiB [] 0% 9.3s\u001b[0K\u001b[1G172.5 MiB [] 0% 9.0s\u001b[0K\u001b[1G172.5 MiB [] 1% 8.1s\u001b[0K\u001b[1G172.5 MiB [] 1% 7.6s\u001b[0K\u001b[1G172.5 MiB [] 1% 6.8s\u001b[0K\u001b[1G172.5 MiB [] 2% 6.9s\u001b[0K\u001b[1G172.5 MiB [] 2% 6.1s\u001b[0K\u001b[1G172.5 MiB [] 3% 5.7s\u001b[0K\u001b[1G172.5 MiB [] 3% 5.3s\u001b[0K\u001b[1G172.5 MiB [] 4% 5.0s\u001b[0K\u001b[1G172.5 MiB [] 4% 5.1s\u001b[0K\u001b[1G172.5 MiB [] 5% 5.1s\u001b[0K\u001b[1G172.5 MiB [] 5% 5.2s\u001b[0K\u001b[1G172.5 MiB [] 5% 5.5s\u001b[0K\u001b[1G172.5 MiB [] 5% 5.7s\u001b[0K\u001b[1G172.5 MiB [] 6% 5.5s\u001b[0K\u001b[1G172.5 MiB [] 6% 5.4s\u001b[0K\u001b[1G172.5 MiB [] 7% 5.2s\u001b[0K\u001b[1G172.5 MiB [] 7% 5.0s\u001b[0K\u001b[1G172.5 MiB [] 7% 5.1s\u001b[0K\u001b[1G172.5 MiB [] 8% 5.1s\u001b[0K\u001b[1G172.5 MiB [] 8% 4.9s\u001b[0K\u001b[1G172.5 MiB [] 8% 4.8s\u001b[0K\u001b[1G172.5 MiB [] 9% 4.7s\u001b[0K\u001b[1G172.5 MiB [] 10% 4.5s\u001b[0K\u001b[1G172.5 MiB [] 10% 4.6s\u001b[0K\u001b[1G172.5 MiB [] 11% 4.4s\u001b[0K\u001b[1G172.5 MiB [] 11% 4.3s\u001b[0K\u001b[1G172.5 MiB [] 12% 4.2s\u001b[0K\u001b[1G172.5 MiB [] 13% 4.2s\u001b[0K\u001b[1G172.5 MiB [] 13% 4.1s\u001b[0K\u001b[1G172.5 MiB [] 14% 4.2s\u001b[0K\u001b[1G172.5 MiB [] 14% 4.3s\u001b[0K\u001b[1G172.5 MiB [] 15% 4.3s\u001b[0K\u001b[1G172.5 MiB [] 15% 4.2s\u001b[0K\u001b[1G172.5 MiB [] 16% 4.2s\u001b[0K\u001b[1G172.5 MiB [] 16% 4.1s\u001b[0K\u001b[1G172.5 MiB [] 17% 4.1s\u001b[0K\u001b[1G172.5 MiB [] 17% 4.0s\u001b[0K\u001b[1G172.5 MiB [] 18% 3.9s\u001b[0K\u001b[1G172.5 MiB [] 19% 3.9s\u001b[0K\u001b[1G172.5 MiB [] 19% 3.8s\u001b[0K\u001b[1G172.5 MiB [] 20% 3.8s\u001b[0K\u001b[1G172.5 MiB [] 20% 3.7s\u001b[0K\u001b[1G172.5 MiB [] 20% 3.8s\u001b[0K\u001b[1G172.5 MiB [] 21% 3.8s\u001b[0K\u001b[1G172.5 MiB [] 21% 3.9s\u001b[0K\u001b[1G172.5 MiB [] 22% 3.9s\u001b[0K\u001b[1G172.5 MiB [] 22% 4.0s\u001b[0K\u001b[1G172.5 MiB [] 22% 4.1s\u001b[0K\u001b[1G172.5 MiB [] 22% 4.0s\u001b[0K\u001b[1G172.5 MiB [] 23% 3.9s\u001b[0K\u001b[1G172.5 MiB [] 24% 3.8s\u001b[0K\u001b[1G172.5 MiB [] 25% 3.7s\u001b[0K\u001b[1G172.5 MiB [] 25% 3.6s\u001b[0K\u001b[1G172.5 MiB [] 26% 3.6s\u001b[0K\u001b[1G172.5 MiB [] 27% 3.5s\u001b[0K\u001b[1G172.5 MiB [] 27% 3.4s\u001b[0K\u001b[1G172.5 MiB [] 28% 3.4s\u001b[0K\u001b[1G172.5 MiB [] 29% 3.3s\u001b[0K\u001b[1G172.5 MiB [] 29% 3.2s\u001b[0K\u001b[1G172.5 MiB [] 30% 3.2s\u001b[0K\u001b[1G172.5 MiB [] 31% 3.1s\u001b[0K\u001b[1G172.5 MiB [] 32% 3.1s\u001b[0K\u001b[1G172.5 MiB [] 33% 3.0s\u001b[0K\u001b[1G172.5 MiB [] 33% 2.9s\u001b[0K\u001b[1G172.5 MiB [] 34% 2.9s\u001b[0K\u001b[1G172.5 MiB [] 34% 2.8s\u001b[0K\u001b[1G172.5 MiB [] 35% 2.8s\u001b[0K\u001b[1G172.5 MiB [] 36% 2.7s\u001b[0K\u001b[1G172.5 MiB [] 37% 2.6s\u001b[0K\u001b[1G172.5 MiB [] 38% 2.6s\u001b[0K\u001b[1G172.5 MiB [] 39% 2.5s\u001b[0K\u001b[1G172.5 MiB [] 40% 2.4s\u001b[0K\u001b[1G172.5 MiB [] 41% 2.3s\u001b[0K\u001b[1G172.5 MiB [] 42% 2.2s\u001b[0K\u001b[1G172.5 MiB [] 43% 2.2s\u001b[0K\u001b[1G172.5 MiB [] 44% 2.2s\u001b[0K\u001b[1G172.5 MiB [] 44% 2.1s\u001b[0K\u001b[1G172.5 MiB [] 45% 2.1s\u001b[0K\u001b[1G172.5 MiB [] 46% 2.0s\u001b[0K\u001b[1G172.5 MiB [] 47% 2.0s\u001b[0K\u001b[1G172.5 MiB [] 48% 1.9s\u001b[0K\u001b[1G172.5 MiB [] 49% 1.9s\u001b[0K\u001b[1G172.5 MiB [] 50% 1.8s\u001b[0K\u001b[1G172.5 MiB [] 51% 1.8s\u001b[0K\u001b[1G172.5 MiB [] 52% 1.8s\u001b[0K\u001b[1G172.5 MiB [] 52% 1.7s\u001b[0K\u001b[1G172.5 MiB [] 53% 1.7s\u001b[0K\u001b[1G172.5 MiB [] 54% 1.7s\u001b[0K\u001b[1G172.5 MiB [] 55% 1.7s\u001b[0K\u001b[1G172.5 MiB [] 55% 1.6s\u001b[0K\u001b[1G172.5 MiB [] 56% 1.6s\u001b[0K\u001b[1G172.5 MiB [] 57% 1.6s\u001b[0K\u001b[1G172.5 MiB [] 58% 1.6s\u001b[0K\u001b[1G172.5 MiB [] 58% 1.5s\u001b[0K\u001b[1G172.5 MiB [] 59% 1.5s\u001b[0K\u001b[1G172.5 MiB [] 60% 1.5s\u001b[0K\u001b[1G172.5 MiB [] 61% 1.5s\u001b[0K\u001b[1G172.5 MiB [] 61% 1.4s\u001b[0K\u001b[1G172.5 MiB [] 62% 1.4s\u001b[0K\u001b[1G172.5 MiB [] 63% 1.4s\u001b[0K\u001b[1G172.5 MiB [] 64% 1.4s\u001b[0K\u001b[1G172.5 MiB [] 64% 1.3s\u001b[0K\u001b[1G172.5 MiB [] 65% 1.3s\u001b[0K\u001b[1G172.5 MiB [] 66% 1.3s\u001b[0K\u001b[1G172.5 MiB [] 67% 1.3s\u001b[0K\u001b[1G172.5 MiB [] 67% 1.4s\u001b[0K\u001b[1G172.5 MiB [] 68% 1.4s\u001b[0K\u001b[1G172.5 MiB [] 69% 1.4s\u001b[0K\u001b[1G172.5 MiB [] 70% 1.4s\u001b[0K\u001b[1G172.5 MiB [] 71% 1.4s\u001b[0K\u001b[1G172.5 MiB [] 72% 1.4s\u001b[0K\u001b[1G172.5 MiB [] 73% 1.4s\u001b[0K\u001b[1G172.5 MiB [] 73% 1.3s\u001b[0K\u001b[1G172.5 MiB [] 74% 1.3s\u001b[0K\u001b[1G172.5 MiB [] 75% 1.3s\u001b[0K\u001b[1G172.5 MiB [] 75% 1.2s\u001b[0K\u001b[1G172.5 MiB [] 76% 1.2s\u001b[0K\u001b[1G172.5 MiB [] 77% 1.1s\u001b[0K\u001b[1G172.5 MiB [] 78% 1.1s\u001b[0K\u001b[1G172.5 MiB [] 79% 1.0s\u001b[0K\u001b[1G172.5 MiB [] 80% 1.0s\u001b[0K\u001b[1G172.5 MiB [] 81% 0.9s\u001b[0K\u001b[1G172.5 MiB [] 82% 0.9s\u001b[0K\u001b[1G172.5 MiB [] 82% 0.8s\u001b[0K\u001b[1G172.5 MiB [] 83% 0.8s\u001b[0K\u001b[1G172.5 MiB [] 84% 0.8s\u001b[0K\u001b[1G172.5 MiB [] 85% 0.7s\u001b[0K\u001b[1G172.5 MiB [] 86% 0.7s\u001b[0K\u001b[1G172.5 MiB [] 87% 0.7s\u001b[0K\u001b[1G172.5 MiB [] 87% 0.6s\u001b[0K\u001b[1G172.5 MiB [] 88% 0.6s\u001b[0K\u001b[1G172.5 MiB [] 89% 0.6s\u001b[0K\u001b[1G172.5 MiB [] 89% 0.5s\u001b[0K\u001b[1G172.5 MiB [] 90% 0.5s\u001b[0K\u001b[1G172.5 MiB [] 91% 0.4s\u001b[0K\u001b[1G172.5 MiB [] 92% 0.4s\u001b[0K\u001b[1G172.5 MiB [] 93% 0.3s\u001b[0K\u001b[1G172.5 MiB [] 94% 0.3s\u001b[0K\u001b[1G172.5 MiB [] 95% 0.2s\u001b[0K\u001b[1G172.5 MiB [] 96% 0.2s\u001b[0K\u001b[1G172.5 MiB [] 97% 0.1s\u001b[0K\u001b[1G172.5 MiB [] 98% 0.1s\u001b[0K\u001b[1G172.5 MiB [] 99% 0.0s\u001b[0K\u001b[1G172.5 MiB [] 100% 0.0s\u001b[0K\n",
            "Chromium 139.0.7258.5 (playwright build v1181) downloaded to /root/.cache/ms-playwright/chromium-1181\n",
            "Downloading Chromium Headless Shell 139.0.7258.5 (playwright build v1181)\u001b[2m from https://cdn.playwright.dev/dbazure/download/playwright/builds/chromium/1181/chromium-headless-shell-linux.zip\u001b[22m\n",
            "\u001b[1G104.8 MiB [] 0% 0.0s\u001b[0K\u001b[1G104.8 MiB [] 0% 5.6s\u001b[0K\u001b[1G104.8 MiB [] 0% 5.0s\u001b[0K\u001b[1G104.8 MiB [] 1% 4.0s\u001b[0K\u001b[1G104.8 MiB [] 1% 3.7s\u001b[0K\u001b[1G104.8 MiB [] 2% 3.6s\u001b[0K\u001b[1G104.8 MiB [] 2% 3.5s\u001b[0K\u001b[1G104.8 MiB [] 3% 3.5s\u001b[0K\u001b[1G104.8 MiB [] 4% 3.2s\u001b[0K\u001b[1G104.8 MiB [] 4% 3.0s\u001b[0K\u001b[1G104.8 MiB [] 5% 2.9s\u001b[0K\u001b[1G104.8 MiB [] 6% 3.0s\u001b[0K\u001b[1G104.8 MiB [] 7% 3.2s\u001b[0K\u001b[1G104.8 MiB [] 7% 3.3s\u001b[0K\u001b[1G104.8 MiB [] 8% 3.6s\u001b[0K\u001b[1G104.8 MiB [] 8% 3.4s\u001b[0K\u001b[1G104.8 MiB [] 9% 3.4s\u001b[0K\u001b[1G104.8 MiB [] 9% 3.5s\u001b[0K\u001b[1G104.8 MiB [] 10% 3.4s\u001b[0K\u001b[1G104.8 MiB [] 10% 3.3s\u001b[0K\u001b[1G104.8 MiB [] 11% 3.2s\u001b[0K\u001b[1G104.8 MiB [] 12% 3.1s\u001b[0K\u001b[1G104.8 MiB [] 13% 3.1s\u001b[0K\u001b[1G104.8 MiB [] 14% 3.0s\u001b[0K\u001b[1G104.8 MiB [] 15% 3.0s\u001b[0K\u001b[1G104.8 MiB [] 16% 2.8s\u001b[0K\u001b[1G104.8 MiB [] 17% 2.7s\u001b[0K\u001b[1G104.8 MiB [] 18% 2.6s\u001b[0K\u001b[1G104.8 MiB [] 19% 2.5s\u001b[0K\u001b[1G104.8 MiB [] 20% 2.5s\u001b[0K\u001b[1G104.8 MiB [] 21% 2.5s\u001b[0K\u001b[1G104.8 MiB [] 22% 2.4s\u001b[0K\u001b[1G104.8 MiB [] 22% 2.5s\u001b[0K\u001b[1G104.8 MiB [] 23% 2.5s\u001b[0K\u001b[1G104.8 MiB [] 24% 2.4s\u001b[0K\u001b[1G104.8 MiB [] 25% 2.3s\u001b[0K\u001b[1G104.8 MiB [] 26% 2.3s\u001b[0K\u001b[1G104.8 MiB [] 27% 2.3s\u001b[0K\u001b[1G104.8 MiB [] 27% 2.2s\u001b[0K\u001b[1G104.8 MiB [] 28% 2.2s\u001b[0K\u001b[1G104.8 MiB [] 29% 2.2s\u001b[0K\u001b[1G104.8 MiB [] 30% 2.2s\u001b[0K\u001b[1G104.8 MiB [] 31% 2.2s\u001b[0K\u001b[1G104.8 MiB [] 32% 2.1s\u001b[0K\u001b[1G104.8 MiB [] 33% 2.1s\u001b[0K\u001b[1G104.8 MiB [] 34% 2.1s\u001b[0K\u001b[1G104.8 MiB [] 35% 2.2s\u001b[0K\u001b[1G104.8 MiB [] 36% 2.1s\u001b[0K\u001b[1G104.8 MiB [] 37% 2.1s\u001b[0K\u001b[1G104.8 MiB [] 38% 2.1s\u001b[0K\u001b[1G104.8 MiB [] 39% 2.1s\u001b[0K\u001b[1G104.8 MiB [] 39% 2.2s\u001b[0K\u001b[1G104.8 MiB [] 40% 2.2s\u001b[0K\u001b[1G104.8 MiB [] 40% 2.1s\u001b[0K\u001b[1G104.8 MiB [] 40% 2.2s\u001b[0K\u001b[1G104.8 MiB [] 41% 2.2s\u001b[0K\u001b[1G104.8 MiB [] 42% 2.1s\u001b[0K\u001b[1G104.8 MiB [] 43% 2.1s\u001b[0K\u001b[1G104.8 MiB [] 44% 2.0s\u001b[0K\u001b[1G104.8 MiB [] 45% 2.0s\u001b[0K\u001b[1G104.8 MiB [] 46% 1.9s\u001b[0K\u001b[1G104.8 MiB [] 47% 1.9s\u001b[0K\u001b[1G104.8 MiB [] 48% 1.8s\u001b[0K\u001b[1G104.8 MiB [] 49% 1.8s\u001b[0K\u001b[1G104.8 MiB [] 50% 1.8s\u001b[0K\u001b[1G104.8 MiB [] 51% 1.7s\u001b[0K\u001b[1G104.8 MiB [] 52% 1.7s\u001b[0K\u001b[1G104.8 MiB [] 52% 1.6s\u001b[0K\u001b[1G104.8 MiB [] 53% 1.6s\u001b[0K\u001b[1G104.8 MiB [] 54% 1.6s\u001b[0K\u001b[1G104.8 MiB [] 54% 1.5s\u001b[0K\u001b[1G104.8 MiB [] 55% 1.5s\u001b[0K\u001b[1G104.8 MiB [] 56% 1.5s\u001b[0K\u001b[1G104.8 MiB [] 57% 1.4s\u001b[0K\u001b[1G104.8 MiB [] 58% 1.4s\u001b[0K\u001b[1G104.8 MiB [] 59% 1.4s\u001b[0K\u001b[1G104.8 MiB [] 60% 1.3s\u001b[0K\u001b[1G104.8 MiB [] 61% 1.3s\u001b[0K\u001b[1G104.8 MiB [] 62% 1.2s\u001b[0K\u001b[1G104.8 MiB [] 63% 1.2s\u001b[0K\u001b[1G104.8 MiB [] 64% 1.1s\u001b[0K\u001b[1G104.8 MiB [] 65% 1.1s\u001b[0K\u001b[1G104.8 MiB [] 66% 1.1s\u001b[0K\u001b[1G104.8 MiB [] 67% 1.0s\u001b[0K\u001b[1G104.8 MiB [] 68% 1.0s\u001b[0K\u001b[1G104.8 MiB [] 69% 0.9s\u001b[0K\u001b[1G104.8 MiB [] 70% 0.9s\u001b[0K\u001b[1G104.8 MiB [] 71% 0.9s\u001b[0K\u001b[1G104.8 MiB [] 72% 0.8s\u001b[0K\u001b[1G104.8 MiB [] 73% 0.8s\u001b[0K\u001b[1G104.8 MiB [] 74% 0.8s\u001b[0K\u001b[1G104.8 MiB [] 75% 0.8s\u001b[0K\u001b[1G104.8 MiB [] 75% 0.7s\u001b[0K\u001b[1G104.8 MiB [] 76% 0.7s\u001b[0K\u001b[1G104.8 MiB [] 77% 0.7s\u001b[0K\u001b[1G104.8 MiB [] 78% 0.7s\u001b[0K\u001b[1G104.8 MiB [] 78% 0.6s\u001b[0K\u001b[1G104.8 MiB [] 79% 0.6s\u001b[0K\u001b[1G104.8 MiB [] 80% 0.6s\u001b[0K\u001b[1G104.8 MiB [] 81% 0.6s\u001b[0K\u001b[1G104.8 MiB [] 81% 0.5s\u001b[0K\u001b[1G104.8 MiB [] 82% 0.5s\u001b[0K\u001b[1G104.8 MiB [] 83% 0.5s\u001b[0K\u001b[1G104.8 MiB [] 84% 0.5s\u001b[0K\u001b[1G104.8 MiB [] 85% 0.5s\u001b[0K\u001b[1G104.8 MiB [] 85% 0.4s\u001b[0K\u001b[1G104.8 MiB [] 86% 0.4s\u001b[0K\u001b[1G104.8 MiB [] 87% 0.4s\u001b[0K\u001b[1G104.8 MiB [] 88% 0.3s\u001b[0K\u001b[1G104.8 MiB [] 89% 0.3s\u001b[0K\u001b[1G104.8 MiB [] 90% 0.3s\u001b[0K\u001b[1G104.8 MiB [] 91% 0.3s\u001b[0K\u001b[1G104.8 MiB [] 91% 0.2s\u001b[0K\u001b[1G104.8 MiB [] 92% 0.2s\u001b[0K\u001b[1G104.8 MiB [] 93% 0.2s\u001b[0K\u001b[1G104.8 MiB [] 94% 0.2s\u001b[0K\u001b[1G104.8 MiB [] 95% 0.1s\u001b[0K\u001b[1G104.8 MiB [] 96% 0.1s\u001b[0K\u001b[1G104.8 MiB [] 97% 0.1s\u001b[0K\u001b[1G104.8 MiB [] 98% 0.0s\u001b[0K\u001b[1G104.8 MiB [] 99% 0.0s\u001b[0K\u001b[1G104.8 MiB [] 100% 0.0s\u001b[0K\n",
            "Chromium Headless Shell 139.0.7258.5 (playwright build v1181) downloaded to /root/.cache/ms-playwright/chromium_headless_shell-1181\n",
            "Downloading Firefox 140.0.2 (playwright build v1489)\u001b[2m from https://cdn.playwright.dev/dbazure/download/playwright/builds/firefox/1489/firefox-ubuntu-22.04.zip\u001b[22m\n",
            "\u001b[1G92.5 MiB [] 0% 0.0s\u001b[0K\u001b[1G92.5 MiB [] 0% 3.0s\u001b[0K\u001b[1G92.5 MiB [] 1% 1.9s\u001b[0K\u001b[1G92.5 MiB [] 2% 1.7s\u001b[0K\u001b[1G92.5 MiB [] 3% 1.7s\u001b[0K\u001b[1G92.5 MiB [] 4% 1.7s\u001b[0K\u001b[1G92.5 MiB [] 4% 2.0s\u001b[0K\u001b[1G92.5 MiB [] 5% 2.1s\u001b[0K\u001b[1G92.5 MiB [] 6% 2.0s\u001b[0K\u001b[1G92.5 MiB [] 7% 2.0s\u001b[0K\u001b[1G92.5 MiB [] 8% 2.0s\u001b[0K\u001b[1G92.5 MiB [] 9% 2.1s\u001b[0K\u001b[1G92.5 MiB [] 9% 2.3s\u001b[0K\u001b[1G92.5 MiB [] 10% 2.4s\u001b[0K\u001b[1G92.5 MiB [] 11% 2.3s\u001b[0K\u001b[1G92.5 MiB [] 12% 2.4s\u001b[0K\u001b[1G92.5 MiB [] 13% 2.3s\u001b[0K\u001b[1G92.5 MiB [] 13% 2.2s\u001b[0K\u001b[1G92.5 MiB [] 14% 2.3s\u001b[0K\u001b[1G92.5 MiB [] 15% 2.2s\u001b[0K\u001b[1G92.5 MiB [] 16% 2.1s\u001b[0K\u001b[1G92.5 MiB [] 17% 2.1s\u001b[0K\u001b[1G92.5 MiB [] 17% 2.2s\u001b[0K\u001b[1G92.5 MiB [] 18% 2.2s\u001b[0K\u001b[1G92.5 MiB [] 18% 2.1s\u001b[0K\u001b[1G92.5 MiB [] 19% 2.1s\u001b[0K\u001b[1G92.5 MiB [] 20% 2.1s\u001b[0K\u001b[1G92.5 MiB [] 21% 2.1s\u001b[0K\u001b[1G92.5 MiB [] 22% 2.0s\u001b[0K\u001b[1G92.5 MiB [] 23% 1.9s\u001b[0K\u001b[1G92.5 MiB [] 24% 1.9s\u001b[0K\u001b[1G92.5 MiB [] 25% 1.9s\u001b[0K\u001b[1G92.5 MiB [] 26% 1.9s\u001b[0K\u001b[1G92.5 MiB [] 27% 1.8s\u001b[0K\u001b[1G92.5 MiB [] 28% 1.8s\u001b[0K\u001b[1G92.5 MiB [] 29% 1.8s\u001b[0K\u001b[1G92.5 MiB [] 30% 1.7s\u001b[0K\u001b[1G92.5 MiB [] 31% 1.7s\u001b[0K\u001b[1G92.5 MiB [] 32% 1.7s\u001b[0K\u001b[1G92.5 MiB [] 33% 1.6s\u001b[0K\u001b[1G92.5 MiB [] 34% 1.6s\u001b[0K\u001b[1G92.5 MiB [] 35% 1.6s\u001b[0K\u001b[1G92.5 MiB [] 36% 1.6s\u001b[0K\u001b[1G92.5 MiB [] 36% 1.5s\u001b[0K\u001b[1G92.5 MiB [] 37% 1.5s\u001b[0K\u001b[1G92.5 MiB [] 38% 1.5s\u001b[0K\u001b[1G92.5 MiB [] 39% 1.5s\u001b[0K\u001b[1G92.5 MiB [] 40% 1.5s\u001b[0K\u001b[1G92.5 MiB [] 41% 1.4s\u001b[0K\u001b[1G92.5 MiB [] 42% 1.4s\u001b[0K\u001b[1G92.5 MiB [] 43% 1.4s\u001b[0K\u001b[1G92.5 MiB [] 44% 1.3s\u001b[0K\u001b[1G92.5 MiB [] 45% 1.3s\u001b[0K\u001b[1G92.5 MiB [] 46% 1.3s\u001b[0K\u001b[1G92.5 MiB [] 47% 1.3s\u001b[0K\u001b[1G92.5 MiB [] 48% 1.2s\u001b[0K\u001b[1G92.5 MiB [] 49% 1.2s\u001b[0K\u001b[1G92.5 MiB [] 50% 1.1s\u001b[0K\u001b[1G92.5 MiB [] 51% 1.1s\u001b[0K\u001b[1G92.5 MiB [] 52% 1.1s\u001b[0K\u001b[1G92.5 MiB [] 53% 1.1s\u001b[0K\u001b[1G92.5 MiB [] 54% 1.1s\u001b[0K\u001b[1G92.5 MiB [] 55% 1.0s\u001b[0K\u001b[1G92.5 MiB [] 56% 1.0s\u001b[0K\u001b[1G92.5 MiB [] 57% 1.0s\u001b[0K\u001b[1G92.5 MiB [] 58% 1.0s\u001b[0K\u001b[1G92.5 MiB [] 59% 0.9s\u001b[0K\u001b[1G92.5 MiB [] 60% 0.9s\u001b[0K\u001b[1G92.5 MiB [] 61% 0.9s\u001b[0K\u001b[1G92.5 MiB [] 62% 0.9s\u001b[0K\u001b[1G92.5 MiB [] 63% 0.9s\u001b[0K\u001b[1G92.5 MiB [] 63% 0.8s\u001b[0K\u001b[1G92.5 MiB [] 64% 0.8s\u001b[0K\u001b[1G92.5 MiB [] 65% 0.8s\u001b[0K\u001b[1G92.5 MiB [] 66% 0.8s\u001b[0K\u001b[1G92.5 MiB [] 67% 0.7s\u001b[0K\u001b[1G92.5 MiB [] 68% 0.7s\u001b[0K\u001b[1G92.5 MiB [] 69% 0.7s\u001b[0K\u001b[1G92.5 MiB [] 70% 0.7s\u001b[0K\u001b[1G92.5 MiB [] 72% 0.6s\u001b[0K\u001b[1G92.5 MiB [] 73% 0.6s\u001b[0K\u001b[1G92.5 MiB [] 74% 0.6s\u001b[0K\u001b[1G92.5 MiB [] 75% 0.5s\u001b[0K\u001b[1G92.5 MiB [] 77% 0.5s\u001b[0K\u001b[1G92.5 MiB [] 79% 0.5s\u001b[0K\u001b[1G92.5 MiB [] 80% 0.4s\u001b[0K\u001b[1G92.5 MiB [] 82% 0.4s\u001b[0K\u001b[1G92.5 MiB [] 83% 0.3s\u001b[0K\u001b[1G92.5 MiB [] 85% 0.3s\u001b[0K\u001b[1G92.5 MiB [] 86% 0.3s\u001b[0K\u001b[1G92.5 MiB [] 88% 0.2s\u001b[0K\u001b[1G92.5 MiB [] 89% 0.2s\u001b[0K\u001b[1G92.5 MiB [] 90% 0.2s\u001b[0K\u001b[1G92.5 MiB [] 91% 0.2s\u001b[0K\u001b[1G92.5 MiB [] 92% 0.1s\u001b[0K\u001b[1G92.5 MiB [] 93% 0.1s\u001b[0K\u001b[1G92.5 MiB [] 94% 0.1s\u001b[0K\u001b[1G92.5 MiB [] 95% 0.1s\u001b[0K\u001b[1G92.5 MiB [] 96% 0.1s\u001b[0K\u001b[1G92.5 MiB [] 98% 0.0s\u001b[0K\u001b[1G92.5 MiB [] 99% 0.0s\u001b[0K\u001b[1G92.5 MiB [] 100% 0.0s\u001b[0K\n",
            "Firefox 140.0.2 (playwright build v1489) downloaded to /root/.cache/ms-playwright/firefox-1489\n",
            "Downloading Webkit 26.0 (playwright build v2191)\u001b[2m from https://cdn.playwright.dev/dbazure/download/playwright/builds/webkit/2191/webkit-ubuntu-22.04.zip\u001b[22m\n",
            "\u001b[1G94.4 MiB [] 0% 0.0s\u001b[0K\u001b[1G94.4 MiB [] 0% 3.6s\u001b[0K\u001b[1G94.4 MiB [] 1% 2.7s\u001b[0K\u001b[1G94.4 MiB [] 2% 1.9s\u001b[0K\u001b[1G94.4 MiB [] 3% 1.7s\u001b[0K\u001b[1G94.4 MiB [] 5% 1.5s\u001b[0K\u001b[1G94.4 MiB [] 6% 1.3s\u001b[0K\u001b[1G94.4 MiB [] 8% 1.3s\u001b[0K\u001b[1G94.4 MiB [] 9% 1.3s\u001b[0K\u001b[1G94.4 MiB [] 10% 1.3s\u001b[0K\u001b[1G94.4 MiB [] 11% 1.3s\u001b[0K\u001b[1G94.4 MiB [] 12% 1.3s\u001b[0K\u001b[1G94.4 MiB [] 13% 1.2s\u001b[0K\u001b[1G94.4 MiB [] 14% 1.2s\u001b[0K\u001b[1G94.4 MiB [] 15% 1.2s\u001b[0K\u001b[1G94.4 MiB [] 17% 1.1s\u001b[0K\u001b[1G94.4 MiB [] 18% 1.1s\u001b[0K\u001b[1G94.4 MiB [] 20% 1.1s\u001b[0K\u001b[1G94.4 MiB [] 22% 1.0s\u001b[0K\u001b[1G94.4 MiB [] 23% 1.0s\u001b[0K\u001b[1G94.4 MiB [] 24% 1.0s\u001b[0K\u001b[1G94.4 MiB [] 25% 1.0s\u001b[0K\u001b[1G94.4 MiB [] 27% 0.9s\u001b[0K\u001b[1G94.4 MiB [] 29% 0.9s\u001b[0K\u001b[1G94.4 MiB [] 31% 0.8s\u001b[0K\u001b[1G94.4 MiB [] 33% 0.8s\u001b[0K\u001b[1G94.4 MiB [] 35% 0.8s\u001b[0K\u001b[1G94.4 MiB [] 37% 0.7s\u001b[0K\u001b[1G94.4 MiB [] 37% 0.8s\u001b[0K\u001b[1G94.4 MiB [] 38% 0.7s\u001b[0K\u001b[1G94.4 MiB [] 40% 0.7s\u001b[0K\u001b[1G94.4 MiB [] 43% 0.7s\u001b[0K\u001b[1G94.4 MiB [] 44% 0.6s\u001b[0K\u001b[1G94.4 MiB [] 46% 0.6s\u001b[0K\u001b[1G94.4 MiB [] 49% 0.6s\u001b[0K\u001b[1G94.4 MiB [] 50% 0.6s\u001b[0K\u001b[1G94.4 MiB [] 53% 0.5s\u001b[0K\u001b[1G94.4 MiB [] 55% 0.5s\u001b[0K\u001b[1G94.4 MiB [] 57% 0.5s\u001b[0K\u001b[1G94.4 MiB [] 59% 0.4s\u001b[0K\u001b[1G94.4 MiB [] 61% 0.4s\u001b[0K\u001b[1G94.4 MiB [] 63% 0.4s\u001b[0K\u001b[1G94.4 MiB [] 66% 0.3s\u001b[0K\u001b[1G94.4 MiB [] 69% 0.3s\u001b[0K\u001b[1G94.4 MiB [] 71% 0.3s\u001b[0K\u001b[1G94.4 MiB [] 72% 0.3s\u001b[0K\u001b[1G94.4 MiB [] 74% 0.3s\u001b[0K\u001b[1G94.4 MiB [] 75% 0.2s\u001b[0K\u001b[1G94.4 MiB [] 77% 0.2s\u001b[0K\u001b[1G94.4 MiB [] 79% 0.2s\u001b[0K\u001b[1G94.4 MiB [] 81% 0.2s\u001b[0K\u001b[1G94.4 MiB [] 83% 0.2s\u001b[0K\u001b[1G94.4 MiB [] 85% 0.1s\u001b[0K\u001b[1G94.4 MiB [] 87% 0.1s\u001b[0K\u001b[1G94.4 MiB [] 89% 0.1s\u001b[0K\u001b[1G94.4 MiB [] 90% 0.1s\u001b[0K\u001b[1G94.4 MiB [] 92% 0.1s\u001b[0K\u001b[1G94.4 MiB [] 94% 0.1s\u001b[0K\u001b[1G94.4 MiB [] 95% 0.0s\u001b[0K\u001b[1G94.4 MiB [] 97% 0.0s\u001b[0K\u001b[1G94.4 MiB [] 99% 0.0s\u001b[0K\u001b[1G94.4 MiB [] 100% 0.0s\u001b[0K\n",
            "Webkit 26.0 (playwright build v2191) downloaded to /root/.cache/ms-playwright/webkit-2191\n",
            "Downloading FFMPEG playwright build v1011\u001b[2m from https://cdn.playwright.dev/dbazure/download/playwright/builds/ffmpeg/1011/ffmpeg-linux.zip\u001b[22m\n",
            "\u001b[1G2.3 MiB [] 0% 0.0s\u001b[0K\u001b[1G2.3 MiB [] 17% 0.1s\u001b[0K\u001b[1G2.3 MiB [] 40% 0.0s\u001b[0K\u001b[1G2.3 MiB [] 72% 0.0s\u001b[0K\u001b[1G2.3 MiB [] 100% 0.0s\u001b[0K\n",
            "FFMPEG playwright build v1011 downloaded to /root/.cache/ms-playwright/ffmpeg-1011\n",
            "Playwright Host validation warning: \n",
            "╔══════════════════════════════════════════════════════╗\n",
            "║ Host system is missing dependencies to run browsers. ║\n",
            "║ Missing libraries:                                   ║\n",
            "║     libwoff2dec.so.1.0.2                             ║\n",
            "║     libgstgl-1.0.so.0                                ║\n",
            "║     libgstcodecparsers-1.0.so.0                      ║\n",
            "║     libavif.so.13                                    ║\n",
            "║     libharfbuzz-icu.so.0                             ║\n",
            "║     libenchant-2.so.2                                ║\n",
            "║     libsecret-1.so.0                                 ║\n",
            "║     libhyphen.so.0                                   ║\n",
            "║     libmanette-0.2.so.0                              ║\n",
            "╚══════════════════════════════════════════════════════╝\n",
            "    at validateDependenciesLinux (/usr/local/lib/python3.11/dist-packages/playwright/driver/package/lib/server/registry/dependencies.js:269:9)\n",
            "\u001b[90m    at process.processTicksAndRejections (node:internal/process/task_queues:105:5)\u001b[39m\n",
            "    at async Registry._validateHostRequirements (/usr/local/lib/python3.11/dist-packages/playwright/driver/package/lib/server/registry/index.js:914:14)\n",
            "    at async Registry._validateHostRequirementsForExecutableIfNeeded (/usr/local/lib/python3.11/dist-packages/playwright/driver/package/lib/server/registry/index.js:1036:7)\n",
            "    at async Registry.validateHostRequirementsForExecutablesIfNeeded (/usr/local/lib/python3.11/dist-packages/playwright/driver/package/lib/server/registry/index.js:1025:7)\n",
            "    at async i.<anonymous> (/usr/local/lib/python3.11/dist-packages/playwright/driver/package/lib/cli/program.js:222:7)\n"
          ]
        }
      ]
    },
    {
      "cell_type": "code",
      "source": [
        "# Install Google Chrome\n",
        "!wget https://dl.google.com/linux/direct/google-chrome-stable_current_amd64.deb\n",
        "!dpkg -i google-chrome-stable_current_amd64.deb\n",
        "!apt --fix-broken install -y"
      ],
      "metadata": {
        "colab": {
          "base_uri": "https://localhost:8080/"
        },
        "id": "HfOnfUGoDTh-",
        "outputId": "34caa56e-519e-41ec-d3b6-4d8fae4feb0e"
      },
      "execution_count": 8,
      "outputs": [
        {
          "output_type": "stream",
          "name": "stdout",
          "text": [
            "--2025-08-06 06:25:34--  https://dl.google.com/linux/direct/google-chrome-stable_current_amd64.deb\n",
            "Resolving dl.google.com (dl.google.com)... 142.251.8.190, 142.251.8.93, 142.251.8.136, ...\n",
            "Connecting to dl.google.com (dl.google.com)|142.251.8.190|:443... connected.\n",
            "HTTP request sent, awaiting response... 200 OK\n",
            "Length: 118582344 (113M) [application/x-debian-package]\n",
            "Saving to: ‘google-chrome-stable_current_amd64.deb’\n",
            "\n",
            "google-chrome-stabl 100%[===================>] 113.09M   355MB/s    in 0.3s    \n",
            "\n",
            "2025-08-06 06:25:34 (355 MB/s) - ‘google-chrome-stable_current_amd64.deb’ saved [118582344/118582344]\n",
            "\n",
            "Selecting previously unselected package google-chrome-stable.\n",
            "(Reading database ... 126284 files and directories currently installed.)\n",
            "Preparing to unpack google-chrome-stable_current_amd64.deb ...\n",
            "Unpacking google-chrome-stable (139.0.7258.66-1) ...\n",
            "\u001b[1mdpkg:\u001b[0m dependency problems prevent configuration of google-chrome-stable:\n",
            " google-chrome-stable depends on libvulkan1; however:\n",
            "  Package libvulkan1 is not installed.\n",
            "\n",
            "\u001b[1mdpkg:\u001b[0m error processing package google-chrome-stable (--install):\n",
            " dependency problems - leaving unconfigured\n",
            "Processing triggers for mailcap (3.70+nmu1ubuntu1) ...\n",
            "Processing triggers for man-db (2.10.2-1) ...\n",
            "Errors were encountered while processing:\n",
            " google-chrome-stable\n",
            "Reading package lists... Done\n",
            "Building dependency tree... Done\n",
            "Reading state information... Done\n",
            "Correcting dependencies... Done\n",
            "The following additional packages will be installed:\n",
            "  libvulkan1 mesa-vulkan-drivers\n",
            "The following NEW packages will be installed:\n",
            "  libvulkan1 mesa-vulkan-drivers\n",
            "0 upgraded, 2 newly installed, 0 to remove and 35 not upgraded.\n",
            "1 not fully installed or removed.\n",
            "Need to get 10.9 MB of archives.\n",
            "After this operation, 51.3 MB of additional disk space will be used.\n",
            "Ign:1 http://archive.ubuntu.com/ubuntu jammy/main amd64 libvulkan1 amd64 1.3.204.1-2\n",
            "Get:2 http://archive.ubuntu.com/ubuntu jammy-updates/main amd64 mesa-vulkan-drivers amd64 23.2.1-1ubuntu3.1~22.04.3 [10.7 MB]\n",
            "Get:1 http://archive.ubuntu.com/ubuntu jammy/main amd64 libvulkan1 amd64 1.3.204.1-2 [128 kB]\n",
            "Fetched 10.9 MB in 1min 32s (119 kB/s)\n",
            "Selecting previously unselected package libvulkan1:amd64.\n",
            "(Reading database ... 126402 files and directories currently installed.)\n",
            "Preparing to unpack .../libvulkan1_1.3.204.1-2_amd64.deb ...\n",
            "Unpacking libvulkan1:amd64 (1.3.204.1-2) ...\n",
            "Selecting previously unselected package mesa-vulkan-drivers:amd64.\n",
            "Preparing to unpack .../mesa-vulkan-drivers_23.2.1-1ubuntu3.1~22.04.3_amd64.deb ...\n",
            "Unpacking mesa-vulkan-drivers:amd64 (23.2.1-1ubuntu3.1~22.04.3) ...\n",
            "Setting up libvulkan1:amd64 (1.3.204.1-2) ...\n",
            "Setting up mesa-vulkan-drivers:amd64 (23.2.1-1ubuntu3.1~22.04.3) ...\n",
            "Setting up google-chrome-stable (139.0.7258.66-1) ...\n",
            "update-alternatives: using /usr/bin/google-chrome-stable to provide /usr/bin/x-www-browser (x-www-browser) in auto mode\n",
            "update-alternatives: using /usr/bin/google-chrome-stable to provide /usr/bin/gnome-www-browser (gnome-www-browser) in auto mode\n",
            "update-alternatives: using /usr/bin/google-chrome-stable to provide /usr/bin/google-chrome (google-chrome) in auto mode\n",
            "Processing triggers for libc-bin (2.35-0ubuntu3.8) ...\n",
            "/sbin/ldconfig.real: /usr/local/lib/libtbbbind_2_0.so.3 is not a symbolic link\n",
            "\n",
            "/sbin/ldconfig.real: /usr/local/lib/libtbbmalloc.so.2 is not a symbolic link\n",
            "\n",
            "/sbin/ldconfig.real: /usr/local/lib/libumf.so.0 is not a symbolic link\n",
            "\n",
            "/sbin/ldconfig.real: /usr/local/lib/libtbb.so.12 is not a symbolic link\n",
            "\n",
            "/sbin/ldconfig.real: /usr/local/lib/libtcm.so.1 is not a symbolic link\n",
            "\n",
            "/sbin/ldconfig.real: /usr/local/lib/libur_adapter_opencl.so.0 is not a symbolic link\n",
            "\n",
            "/sbin/ldconfig.real: /usr/local/lib/libur_adapter_level_zero_v2.so.0 is not a symbolic link\n",
            "\n",
            "/sbin/ldconfig.real: /usr/local/lib/libtcm_debug.so.1 is not a symbolic link\n",
            "\n",
            "/sbin/ldconfig.real: /usr/local/lib/libtbbbind.so.3 is not a symbolic link\n",
            "\n",
            "/sbin/ldconfig.real: /usr/local/lib/libhwloc.so.15 is not a symbolic link\n",
            "\n",
            "/sbin/ldconfig.real: /usr/local/lib/libtbbbind_2_5.so.3 is not a symbolic link\n",
            "\n",
            "/sbin/ldconfig.real: /usr/local/lib/libur_loader.so.0 is not a symbolic link\n",
            "\n",
            "/sbin/ldconfig.real: /usr/local/lib/libur_adapter_level_zero.so.0 is not a symbolic link\n",
            "\n",
            "/sbin/ldconfig.real: /usr/local/lib/libtbbmalloc_proxy.so.2 is not a symbolic link\n",
            "\n"
          ]
        }
      ]
    },
    {
      "cell_type": "code",
      "source": [
        "# Install ChromeDriver\n",
        "!wget https://chromedriver.storage.googleapis.com/114.0.5735.90/chromedriver_linux64.zip\n",
        "!unzip chromedriver_linux64.zip\n",
        "!mv chromedriver /usr/bin/chromedriver"
      ],
      "metadata": {
        "colab": {
          "base_uri": "https://localhost:8080/"
        },
        "id": "QUHFHtTBDQWg",
        "outputId": "7c617981-bedc-4646-f693-67aa5d01c727"
      },
      "execution_count": 9,
      "outputs": [
        {
          "output_type": "stream",
          "name": "stdout",
          "text": [
            "--2025-08-06 06:27:32--  https://chromedriver.storage.googleapis.com/114.0.5735.90/chromedriver_linux64.zip\n",
            "Resolving chromedriver.storage.googleapis.com (chromedriver.storage.googleapis.com)... 74.125.203.207, 74.125.204.207, 64.233.187.207, ...\n",
            "Connecting to chromedriver.storage.googleapis.com (chromedriver.storage.googleapis.com)|74.125.203.207|:443... connected.\n",
            "HTTP request sent, awaiting response... 200 OK\n",
            "Length: 7407250 (7.1M) [application/zip]\n",
            "Saving to: ‘chromedriver_linux64.zip’\n",
            "\n",
            "chromedriver_linux6 100%[===================>]   7.06M  6.54MB/s    in 1.1s    \n",
            "\n",
            "2025-08-06 06:27:33 (6.54 MB/s) - ‘chromedriver_linux64.zip’ saved [7407250/7407250]\n",
            "\n",
            "Archive:  chromedriver_linux64.zip\n",
            "  inflating: chromedriver            \n",
            "  inflating: LICENSE.chromedriver    \n"
          ]
        }
      ]
    },
    {
      "cell_type": "code",
      "source": [
        "# Install required packages\n",
        "!pip install selenium webdriver-manager"
      ],
      "metadata": {
        "colab": {
          "base_uri": "https://localhost:8080/"
        },
        "id": "fGaPg22zEMiH",
        "outputId": "d2be0c8e-ee68-4aad-ac77-a39a3f977c47"
      },
      "execution_count": 10,
      "outputs": [
        {
          "output_type": "stream",
          "name": "stdout",
          "text": [
            "Requirement already satisfied: selenium in /usr/local/lib/python3.11/dist-packages (4.34.2)\n",
            "Requirement already satisfied: webdriver-manager in /usr/local/lib/python3.11/dist-packages (4.0.2)\n",
            "Requirement already satisfied: urllib3~=2.5.0 in /usr/local/lib/python3.11/dist-packages (from urllib3[socks]~=2.5.0->selenium) (2.5.0)\n",
            "Requirement already satisfied: trio~=0.30.0 in /usr/local/lib/python3.11/dist-packages (from selenium) (0.30.0)\n",
            "Requirement already satisfied: trio-websocket~=0.12.2 in /usr/local/lib/python3.11/dist-packages (from selenium) (0.12.2)\n",
            "Requirement already satisfied: certifi>=2025.6.15 in /usr/local/lib/python3.11/dist-packages (from selenium) (2025.7.14)\n",
            "Requirement already satisfied: typing_extensions~=4.14.0 in /usr/local/lib/python3.11/dist-packages (from selenium) (4.14.1)\n",
            "Requirement already satisfied: websocket-client~=1.8.0 in /usr/local/lib/python3.11/dist-packages (from selenium) (1.8.0)\n",
            "Requirement already satisfied: requests in /usr/local/lib/python3.11/dist-packages (from webdriver-manager) (2.32.3)\n",
            "Requirement already satisfied: python-dotenv in /usr/local/lib/python3.11/dist-packages (from webdriver-manager) (1.1.1)\n",
            "Requirement already satisfied: packaging in /usr/local/lib/python3.11/dist-packages (from webdriver-manager) (25.0)\n",
            "Requirement already satisfied: attrs>=23.2.0 in /usr/local/lib/python3.11/dist-packages (from trio~=0.30.0->selenium) (25.3.0)\n",
            "Requirement already satisfied: sortedcontainers in /usr/local/lib/python3.11/dist-packages (from trio~=0.30.0->selenium) (2.4.0)\n",
            "Requirement already satisfied: idna in /usr/local/lib/python3.11/dist-packages (from trio~=0.30.0->selenium) (3.10)\n",
            "Requirement already satisfied: outcome in /usr/local/lib/python3.11/dist-packages (from trio~=0.30.0->selenium) (1.3.0.post0)\n",
            "Requirement already satisfied: sniffio>=1.3.0 in /usr/local/lib/python3.11/dist-packages (from trio~=0.30.0->selenium) (1.3.1)\n",
            "Requirement already satisfied: wsproto>=0.14 in /usr/local/lib/python3.11/dist-packages (from trio-websocket~=0.12.2->selenium) (1.2.0)\n",
            "Requirement already satisfied: pysocks!=1.5.7,<2.0,>=1.5.6 in /usr/local/lib/python3.11/dist-packages (from urllib3[socks]~=2.5.0->selenium) (1.7.1)\n",
            "Requirement already satisfied: charset-normalizer<4,>=2 in /usr/local/lib/python3.11/dist-packages (from requests->webdriver-manager) (3.4.2)\n",
            "Requirement already satisfied: h11<1,>=0.9.0 in /usr/local/lib/python3.11/dist-packages (from wsproto>=0.14->trio-websocket~=0.12.2->selenium) (0.16.0)\n"
          ]
        }
      ]
    },
    {
      "cell_type": "code",
      "source": [
        "pip install webdriver-manager\n"
      ],
      "metadata": {
        "colab": {
          "base_uri": "https://localhost:8080/"
        },
        "id": "tTREhV_5ChfJ",
        "outputId": "3dcd100b-845e-4acc-952e-f613302e3d23"
      },
      "execution_count": 3,
      "outputs": [
        {
          "output_type": "stream",
          "name": "stdout",
          "text": [
            "Collecting webdriver-manager\n",
            "  Downloading webdriver_manager-4.0.2-py2.py3-none-any.whl.metadata (12 kB)\n",
            "Requirement already satisfied: requests in /usr/local/lib/python3.11/dist-packages (from webdriver-manager) (2.32.3)\n",
            "Collecting python-dotenv (from webdriver-manager)\n",
            "  Downloading python_dotenv-1.1.1-py3-none-any.whl.metadata (24 kB)\n",
            "Requirement already satisfied: packaging in /usr/local/lib/python3.11/dist-packages (from webdriver-manager) (25.0)\n",
            "Requirement already satisfied: charset-normalizer<4,>=2 in /usr/local/lib/python3.11/dist-packages (from requests->webdriver-manager) (3.4.2)\n",
            "Requirement already satisfied: idna<4,>=2.5 in /usr/local/lib/python3.11/dist-packages (from requests->webdriver-manager) (3.10)\n",
            "Requirement already satisfied: urllib3<3,>=1.21.1 in /usr/local/lib/python3.11/dist-packages (from requests->webdriver-manager) (2.5.0)\n",
            "Requirement already satisfied: certifi>=2017.4.17 in /usr/local/lib/python3.11/dist-packages (from requests->webdriver-manager) (2025.7.14)\n",
            "Downloading webdriver_manager-4.0.2-py2.py3-none-any.whl (27 kB)\n",
            "Downloading python_dotenv-1.1.1-py3-none-any.whl (20 kB)\n",
            "Installing collected packages: python-dotenv, webdriver-manager\n",
            "Successfully installed python-dotenv-1.1.1 webdriver-manager-4.0.2\n"
          ]
        }
      ]
    },
    {
      "cell_type": "code",
      "execution_count": 1,
      "metadata": {
        "colab": {
          "base_uri": "https://localhost:8080/"
        },
        "id": "hQSkmGJG_gdY",
        "outputId": "c99024d6-c818-4531-f30d-b0c551a07aef"
      },
      "outputs": [
        {
          "output_type": "stream",
          "name": "stdout",
          "text": [
            "Collecting selenium\n",
            "  Downloading selenium-4.34.2-py3-none-any.whl.metadata (7.5 kB)\n",
            "Requirement already satisfied: urllib3~=2.5.0 in /usr/local/lib/python3.11/dist-packages (from urllib3[socks]~=2.5.0->selenium) (2.5.0)\n",
            "Collecting trio~=0.30.0 (from selenium)\n",
            "  Downloading trio-0.30.0-py3-none-any.whl.metadata (8.5 kB)\n",
            "Collecting trio-websocket~=0.12.2 (from selenium)\n",
            "  Downloading trio_websocket-0.12.2-py3-none-any.whl.metadata (5.1 kB)\n",
            "Requirement already satisfied: certifi>=2025.6.15 in /usr/local/lib/python3.11/dist-packages (from selenium) (2025.7.14)\n",
            "Requirement already satisfied: typing_extensions~=4.14.0 in /usr/local/lib/python3.11/dist-packages (from selenium) (4.14.1)\n",
            "Requirement already satisfied: websocket-client~=1.8.0 in /usr/local/lib/python3.11/dist-packages (from selenium) (1.8.0)\n",
            "Requirement already satisfied: attrs>=23.2.0 in /usr/local/lib/python3.11/dist-packages (from trio~=0.30.0->selenium) (25.3.0)\n",
            "Requirement already satisfied: sortedcontainers in /usr/local/lib/python3.11/dist-packages (from trio~=0.30.0->selenium) (2.4.0)\n",
            "Requirement already satisfied: idna in /usr/local/lib/python3.11/dist-packages (from trio~=0.30.0->selenium) (3.10)\n",
            "Collecting outcome (from trio~=0.30.0->selenium)\n",
            "  Downloading outcome-1.3.0.post0-py2.py3-none-any.whl.metadata (2.6 kB)\n",
            "Requirement already satisfied: sniffio>=1.3.0 in /usr/local/lib/python3.11/dist-packages (from trio~=0.30.0->selenium) (1.3.1)\n",
            "Collecting wsproto>=0.14 (from trio-websocket~=0.12.2->selenium)\n",
            "  Downloading wsproto-1.2.0-py3-none-any.whl.metadata (5.6 kB)\n",
            "Requirement already satisfied: pysocks!=1.5.7,<2.0,>=1.5.6 in /usr/local/lib/python3.11/dist-packages (from urllib3[socks]~=2.5.0->selenium) (1.7.1)\n",
            "Requirement already satisfied: h11<1,>=0.9.0 in /usr/local/lib/python3.11/dist-packages (from wsproto>=0.14->trio-websocket~=0.12.2->selenium) (0.16.0)\n",
            "Downloading selenium-4.34.2-py3-none-any.whl (9.4 MB)\n",
            "\u001b[2K   \u001b[90m━━━━━━━━━━━━━━━━━━━━━━━━━━━━━━━━━━━━━━━━\u001b[0m \u001b[32m9.4/9.4 MB\u001b[0m \u001b[31m19.4 MB/s\u001b[0m eta \u001b[36m0:00:00\u001b[0m\n",
            "\u001b[?25hDownloading trio-0.30.0-py3-none-any.whl (499 kB)\n",
            "\u001b[2K   \u001b[90m━━━━━━━━━━━━━━━━━━━━━━━━━━━━━━━━━━━━━━━━\u001b[0m \u001b[32m499.2/499.2 kB\u001b[0m \u001b[31m29.7 MB/s\u001b[0m eta \u001b[36m0:00:00\u001b[0m\n",
            "\u001b[?25hDownloading trio_websocket-0.12.2-py3-none-any.whl (21 kB)\n",
            "Downloading outcome-1.3.0.post0-py2.py3-none-any.whl (10 kB)\n",
            "Downloading wsproto-1.2.0-py3-none-any.whl (24 kB)\n",
            "Installing collected packages: wsproto, outcome, trio, trio-websocket, selenium\n",
            "Successfully installed outcome-1.3.0.post0 selenium-4.34.2 trio-0.30.0 trio-websocket-0.12.2 wsproto-1.2.0\n"
          ]
        }
      ],
      "source": [
        "pip install selenium\n"
      ]
    },
    {
      "cell_type": "code",
      "source": [
        "\n",
        "from playwright.async_api import async_playwright\n",
        "import csv\n",
        "import json\n",
        "from google.colab import files\n",
        "\n",
        "# Function to scrape data using Playwright\n",
        "async def scrape_data():\n",
        "    async with async_playwright() as p:\n",
        "        # Launch a browser in headless mode\n",
        "        browser = await p.chromium.launch(headless=True)\n",
        "        page = await browser.new_page()\n",
        "\n",
        "        # Open the URL\n",
        "        url = 'https://coastsidecircuitbreakers.com/collections/all'\n",
        "        await page.goto(url)\n",
        "\n",
        "        # List to store all products\n",
        "        all_products = []\n",
        "\n",
        "        # Pagination to scrape data from multiple pages\n",
        "        page_count = 1\n",
        "        has_next = True\n",
        "\n",
        "        while has_next and len(all_products) < 10000:\n",
        "            print(f\"📄 Scraping page {page_count}...\")\n",
        "\n",
        "            # Wait for the product items to load\n",
        "            await page.wait_for_selector('.productgrid--items .productitem', timeout=10000)\n",
        "\n",
        "            # Scrape the product data\n",
        "            products = await page.query_selector_all('.productgrid--items .productitem')\n",
        "\n",
        "            # Extract product details\n",
        "            for product in products:\n",
        "                title = await product.query_selector('.productitem--title a')\n",
        "                title = await title.inner_text() if title else \"N/A\"\n",
        "\n",
        "                brand = await product.query_selector('.productitem--vendor')\n",
        "                brand = await brand.inner_text() if brand else \"N/A\"\n",
        "\n",
        "                description = await product.query_selector('.productitem--description p')\n",
        "                description = await description.inner_text() if description else \"N/A\"\n",
        "\n",
        "                price = await product.query_selector('.price--main .money')\n",
        "                price = await price.inner_text() if price else await product.query_selector('.price--main').inner_text() if product.query_selector('.price--main') else \"N/A\"\n",
        "\n",
        "                link = await product.query_selector('.productitem--title a')\n",
        "                link = await link.get_attribute('href') if link else \"N/A\"\n",
        "\n",
        "                image = await product.query_selector('.productitem--image img')\n",
        "                image = await image.get_attribute('src') if image else \"N/A\"\n",
        "\n",
        "                # Fix image URL if it starts with \"//\"\n",
        "                if image and image.startswith(\"//\"):\n",
        "                    image = \"https:\" + image\n",
        "\n",
        "                # Store the product data\n",
        "                all_products.append({\n",
        "                    'title': title,\n",
        "                    'brand': brand,\n",
        "                    'description': description,\n",
        "                    'price': price,\n",
        "                    'link': link,\n",
        "                    'image': image\n",
        "                })\n",
        "\n",
        "            # Check if there is a next page\n",
        "            has_next = await page.query_selector('.pagination-next') is not None\n",
        "            if has_next:\n",
        "                next_button = await page.query_selector('.pagination-next a')\n",
        "                await next_button.click()\n",
        "                page_count += 1\n",
        "\n",
        "            # Log progress\n",
        "            print(f\"✅ Found {len(products)} products. Total: {len(all_products)}\")\n",
        "\n",
        "        # Close the browser\n",
        "        await browser.close()\n",
        "\n",
        "        return all_products\n",
        "\n",
        "# Run the scraping function asynchronously using await in Colab\n",
        "product_data = await scrape_data()\n",
        "\n",
        "# Check if data was scraped\n",
        "if product_data:\n",
        "    print(f\"Scraped {len(product_data)} products.\")\n",
        "else:\n",
        "    print(\"No products were scraped.\")\n",
        "\n",
        "# Save the data to a CSV file\n",
        "csv_file_path = '/content/product_data.csv'\n",
        "fields = ['title', 'brand', 'description', 'price', 'link', 'image']\n",
        "\n",
        "with open(csv_file_path, 'w', newline='', encoding='utf-8') as file:\n",
        "    writer = csv.DictWriter(file, fieldnames=fields)\n",
        "    writer.writeheader()  # Write the headers\n",
        "    for data in product_data:\n",
        "        writer.writerow(data)\n",
        "\n",
        "print(f\"Product data has been saved to {csv_file_path}\")\n",
        "\n",
        "# Save the data to a JSON file\n",
        "json_file_path = '/content/product_data.json'\n",
        "\n",
        "with open(json_file_path, 'w', encoding='utf-8') as file:\n",
        "    json.dump(product_data, file, ensure_ascii=False, indent=4)\n",
        "\n",
        "print(f\"Product data has been saved to {json_file_path}\")\n",
        "\n",
        "# Download the files\n",
        "files.download(csv_file_path)\n",
        "files.download(json_file_path)"
      ],
      "metadata": {
        "colab": {
          "base_uri": "https://localhost:8080/",
          "height": 104
        },
        "id": "EkF4CQYqBz3I",
        "outputId": "915eb2ee-e68b-47d8-cc55-f945a4ef1ab4"
      },
      "execution_count": 25,
      "outputs": [
        {
          "output_type": "stream",
          "name": "stdout",
          "text": [
            "📄 Scraping page 1...\n",
            "✅ Found 24 products. Total: 24\n",
            "Scraped 24 products.\n",
            "Product data has been saved to /content/product_data.csv\n",
            "Product data has been saved to /content/product_data.json\n"
          ]
        },
        {
          "output_type": "display_data",
          "data": {
            "text/plain": [
              "<IPython.core.display.Javascript object>"
            ],
            "application/javascript": [
              "\n",
              "    async function download(id, filename, size) {\n",
              "      if (!google.colab.kernel.accessAllowed) {\n",
              "        return;\n",
              "      }\n",
              "      const div = document.createElement('div');\n",
              "      const label = document.createElement('label');\n",
              "      label.textContent = `Downloading \"${filename}\": `;\n",
              "      div.appendChild(label);\n",
              "      const progress = document.createElement('progress');\n",
              "      progress.max = size;\n",
              "      div.appendChild(progress);\n",
              "      document.body.appendChild(div);\n",
              "\n",
              "      const buffers = [];\n",
              "      let downloaded = 0;\n",
              "\n",
              "      const channel = await google.colab.kernel.comms.open(id);\n",
              "      // Send a message to notify the kernel that we're ready.\n",
              "      channel.send({})\n",
              "\n",
              "      for await (const message of channel.messages) {\n",
              "        // Send a message to notify the kernel that we're ready.\n",
              "        channel.send({})\n",
              "        if (message.buffers) {\n",
              "          for (const buffer of message.buffers) {\n",
              "            buffers.push(buffer);\n",
              "            downloaded += buffer.byteLength;\n",
              "            progress.value = downloaded;\n",
              "          }\n",
              "        }\n",
              "      }\n",
              "      const blob = new Blob(buffers, {type: 'application/binary'});\n",
              "      const a = document.createElement('a');\n",
              "      a.href = window.URL.createObjectURL(blob);\n",
              "      a.download = filename;\n",
              "      div.appendChild(a);\n",
              "      a.click();\n",
              "      div.remove();\n",
              "    }\n",
              "  "
            ]
          },
          "metadata": {}
        },
        {
          "output_type": "display_data",
          "data": {
            "text/plain": [
              "<IPython.core.display.Javascript object>"
            ],
            "application/javascript": [
              "download(\"download_f858b84d-7f29-4288-8cef-a7dbf020f765\", \"product_data.csv\", 8552)"
            ]
          },
          "metadata": {}
        },
        {
          "output_type": "display_data",
          "data": {
            "text/plain": [
              "<IPython.core.display.Javascript object>"
            ],
            "application/javascript": [
              "\n",
              "    async function download(id, filename, size) {\n",
              "      if (!google.colab.kernel.accessAllowed) {\n",
              "        return;\n",
              "      }\n",
              "      const div = document.createElement('div');\n",
              "      const label = document.createElement('label');\n",
              "      label.textContent = `Downloading \"${filename}\": `;\n",
              "      div.appendChild(label);\n",
              "      const progress = document.createElement('progress');\n",
              "      progress.max = size;\n",
              "      div.appendChild(progress);\n",
              "      document.body.appendChild(div);\n",
              "\n",
              "      const buffers = [];\n",
              "      let downloaded = 0;\n",
              "\n",
              "      const channel = await google.colab.kernel.comms.open(id);\n",
              "      // Send a message to notify the kernel that we're ready.\n",
              "      channel.send({})\n",
              "\n",
              "      for await (const message of channel.messages) {\n",
              "        // Send a message to notify the kernel that we're ready.\n",
              "        channel.send({})\n",
              "        if (message.buffers) {\n",
              "          for (const buffer of message.buffers) {\n",
              "            buffers.push(buffer);\n",
              "            downloaded += buffer.byteLength;\n",
              "            progress.value = downloaded;\n",
              "          }\n",
              "        }\n",
              "      }\n",
              "      const blob = new Blob(buffers, {type: 'application/binary'});\n",
              "      const a = document.createElement('a');\n",
              "      a.href = window.URL.createObjectURL(blob);\n",
              "      a.download = filename;\n",
              "      div.appendChild(a);\n",
              "      a.click();\n",
              "      div.remove();\n",
              "    }\n",
              "  "
            ]
          },
          "metadata": {}
        },
        {
          "output_type": "display_data",
          "data": {
            "text/plain": [
              "<IPython.core.display.Javascript object>"
            ],
            "application/javascript": [
              "download(\"download_f64aad2b-177e-4c72-a542-be31276a515c\", \"product_data.json\", 11728)"
            ]
          },
          "metadata": {}
        }
      ]
    },
    {
      "cell_type": "code",
      "source": [],
      "metadata": {
        "id": "ExQWuqVSCMKA"
      },
      "execution_count": 31,
      "outputs": []
    },
    {
      "cell_type": "code",
      "source": [],
      "metadata": {
        "id": "3K-D75NQgpyl"
      },
      "execution_count": null,
      "outputs": []
    }
  ]
}